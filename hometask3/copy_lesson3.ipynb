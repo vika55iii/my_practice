{
  "nbformat": 4,
  "nbformat_minor": 0,
  "metadata": {
    "colab": {
      "name": "Копія записника \"lesson_3_hometask_pandas .ipynb\"",
      "provenance": [],
      "collapsed_sections": []
    },
    "kernelspec": {
      "display_name": "Python 3",
      "language": "python",
      "name": "python3"
    },
    "language_info": {
      "codemirror_mode": {
        "name": "ipython",
        "version": 3
      },
      "file_extension": ".py",
      "mimetype": "text/x-python",
      "name": "python",
      "nbconvert_exporter": "python",
      "pygments_lexer": "ipython3",
      "version": "3.8.3"
    }
  },
  "cells": [
    {
      "cell_type": "markdown",
      "metadata": {
        "id": "PdkJWgiFHL9f"
      },
      "source": [
        "# Home task: pandas \n",
        "\n",
        "## Question 1\n",
        "\n",
        "- Load the energy data from the file [Energy Indicators.xls](http://unstats.un.org/unsd/environment/excel_file_tables/2013/Energy%20Indicators.xls).\n",
        "It is a list of indicators of energy supply and renewable electricity production from the United Nations for the year 2013.\n",
        "\n",
        "\n",
        "- It should be put into a DataFrame with the variable name of \"energy\"\n",
        "\n",
        "\n",
        "- Make sure to exclude the footer and header information from the datafile.\n",
        "\n",
        "\n",
        "- The first two columns are unneccessary, so you should get rid of them, and you should change the column labels so that the columns are:<br>\n",
        "`['Country', 'Energy Supply', 'Energy Supply per Capita', '% Renewable']`\n",
        "\n",
        "\n",
        "- Convert `Energy Supply` to gigajoules (there are 1,000,000 gigajoules in a petajoule).\n",
        "\n",
        "\n",
        "- For all countries which have missing data (e.g. data with `...`) make sure this is reflected as `np.NaN` values.\n",
        "\n",
        "\n",
        "- Rename the following list of countries (for use in later questions):\n",
        "    - `Republic of Korea`: `South Korea`,\n",
        "    - `United States of America`: `United States`,\n",
        "    - `United Kingdom of Great Britain and Northern Ireland`: `United Kingdom`,\n",
        "    - `China, Hong Kong Special Administrative Region`: `Hong Kong`\n",
        "\n",
        "\n",
        "- There are also several countries with numbers and/or parenthesis in their name. Be sure to remove these, e.g.:\n",
        "    - `Bolivia (Plurinational State of)` should be `Bolivia`,\n",
        "    - `Switzerland17` should be `Switzerland`.\n",
        "\n",
        "\n",
        "- Next, load the GDP data from the file [\"world_bank.csv\"](http://data.worldbank.org/indicator/NY.GDP.MKTP.CD). \n",
        "It is a csv containing countries' GDP from 1960 to 2015 from World Bank. Call this DataFrame \"GDP\"\n",
        "\n",
        "\n",
        "- Make sure to skip the header, and rename the following list of countries:\n",
        "    - `Korea, Rep.`: `South Korea`,\n",
        "    - `Iran, Islamic Rep.`: `Iran`,\n",
        "    - `Hong Kong SAR, China`: `Hong Kong`\n",
        "\n",
        "\n",
        "- Finally, load the \"Sciamgo Journal and Country Rank data for [Energy Engineering and Power Technology\"](http://www.scimagojr.com/countryrank.php?category=2102). It ranks countries based on their journal contributions in the aforementioned area. Call this DataFrame \"ScimEn\"\n",
        "\n",
        "\n",
        "- Join the three datasets: Energy, GDP, and ScimEn into a new dataset (using the intersection of country names). Use only the 10 years (2006-2015) of GDP data and only the top 15 countries by Scimagojr 'Rank' (Rank 1 through 15).\n",
        "\n",
        "\n",
        "- The index of this DataFrame should be the name of the country, and the columns should be<br>\n",
        "`['Rank', 'Documents', 'Citable documents', 'Citations', 'Self-citations', 'Citations per document', 'H index', 'Energy Supply', 'Energy Supply per Capita', '% Renewable', '2006', '2007', '2008', '2009', '2010', '2011', 2012', '2013', '2014', '2015']`\n",
        "\n",
        "Function \"answer_one\" should return the resulted DataFrame (20 columns and 15 entries)"
      ]
    },
    {
      "cell_type": "markdown",
      "metadata": {
        "id": "3QGFRHSXHL9p"
      },
      "source": [
        "## Answer the following questions in the context of only the top 15 countries by Scimagojr Rank (aka the DataFrame returned by `answer_one()`)"
      ]
    },
    {
      "cell_type": "code",
      "metadata": {
        "colab": {
          "base_uri": "https://localhost:8080/"
        },
        "id": "mIZ08S-lIL-i",
        "outputId": "c5bf8ab2-2139-4817-dd3c-f291c473d0bf"
      },
      "source": [
        "from google.colab import drive\n",
        "drive.mount('/content/drive/')"
      ],
      "execution_count": 1,
      "outputs": [
        {
          "output_type": "stream",
          "text": [
            "Mounted at /content/drive/\n"
          ],
          "name": "stdout"
        }
      ]
    },
    {
      "cell_type": "code",
      "metadata": {
        "colab": {
          "base_uri": "https://localhost:8080/",
          "height": 681
        },
        "id": "i4GSlrQUHL9q",
        "outputId": "75b947f8-3bb2-4e8d-9158-1b55ac73eef0"
      },
      "source": [
        "import pandas as pd \n",
        "import numpy as np\n",
        "def answer_one():\n",
        "\n",
        "   \n",
        "    energy = pd.read_excel('/content/drive/MyDrive/Father/camp2021/hometask3_2/Energy Indicators.xls', skiprows=17,skipfooter= 38)\n",
        "    energy = energy[['Unnamed: 1','Petajoules','Gigajoules','%']]\n",
        "\n",
        "    energy.columns = ['Country', 'Energy Supply', 'Energy Supply per Capita', '% Renewable'] \n",
        "    energy.replace('...', np.nan,inplace = True)\n",
        "\n",
        "    di_energy = {\"Republic of Korea\": \"South Korea\",\n",
        "    \"United States of America\": \"United States\",\n",
        "    \"United Kingdom of Great Britain and Northern Ireland\": \"United Kingdom\",\n",
        "    \"China, Hong Kong Special Administrative Region\": \"Hong Kong\"}\n",
        "    energy.replace({\"Country\": di_energy},inplace = True)\n",
        "\n",
        "    energy['Country'] = energy['Country'].str.replace(\" \\(.*\\)\",\"\")\n",
        "    energy['Energy Supply'] = energy['Energy Supply']*1000000\n",
        "\n",
        "# -----------------------------------------------------------------------------------------------#\n",
        "    GDP = pd.read_csv('/content/drive/MyDrive/Father/camp2021/hometask3_2/world_bank.csv',skiprows=4)\n",
        "    GDP['Country Name'] = GDP['Country Name'].replace({\"Korea, Rep.\": \"South Korea\", \"Iran, Islamic Rep.\": \"Iran\", \"Hong Kong SAR, China\" : \"Hong Kong\"}) # Similarly, replace the corresponding country name\n",
        "    GDP = GDP[['Country Name', '2006', '2007', '2008', '2009', '2010', '2011', '2012', '2013', '2014', '2015'] ] # The title says that as long as 10 years, take out these years\n",
        "\n",
        "    \n",
        "    di_GDP = {\"Korea, Rep.\": \"South Korea\", \n",
        "    \"Iran, Islamic Rep.\": \"Iran\",\n",
        "    \"Hong Kong SAR, China\": \"Hong Kong\"}\n",
        "    energy.replace({\"Country\": di_GDP},inplace = True)\n",
        "# -----------------------------------------------------------------------------------------------#\n",
        "    ScimEn = pd.read_excel('/content/drive/MyDrive/Father/camp2021/hometask3_2/sc.xlsx')[:15]\n",
        "    ScimEn = ScimEn[0:15]\n",
        "     \n",
        "    df = pd.merge(ScimEn, energy, how = 'inner', left_on = 'Country', right_on='Country')\n",
        "    result = pd.merge(df,GDP, how = 'inner', left_on = 'Country', right_on='Country Name').set_index('Country') # merge data, inner method takes intersection, and finally only 15 countries\n",
        "    \n",
        "    result= result[['Rank', 'Documents', 'Citable documents', 'Citations', 'Self-citations', 'Citations per document', 'H index', 'Energy Supply', 'Energy Supply per Capita', '% Renewable', '2006', '2007', '2008', '2009', '2010', '2011', '2012', '2013', '2014', '2015']]\n",
        "    \n",
        "    \n",
        "    return result\n",
        "answer_one()"
      ],
      "execution_count": 84,
      "outputs": [
        {
          "output_type": "execute_result",
          "data": {
            "text/html": [
              "<div>\n",
              "<style scoped>\n",
              "    .dataframe tbody tr th:only-of-type {\n",
              "        vertical-align: middle;\n",
              "    }\n",
              "\n",
              "    .dataframe tbody tr th {\n",
              "        vertical-align: top;\n",
              "    }\n",
              "\n",
              "    .dataframe thead th {\n",
              "        text-align: right;\n",
              "    }\n",
              "</style>\n",
              "<table border=\"1\" class=\"dataframe\">\n",
              "  <thead>\n",
              "    <tr style=\"text-align: right;\">\n",
              "      <th></th>\n",
              "      <th>Rank</th>\n",
              "      <th>Documents</th>\n",
              "      <th>Citable documents</th>\n",
              "      <th>Citations</th>\n",
              "      <th>Self-citations</th>\n",
              "      <th>Citations per document</th>\n",
              "      <th>H index</th>\n",
              "      <th>Energy Supply</th>\n",
              "      <th>Energy Supply per Capita</th>\n",
              "      <th>% Renewable</th>\n",
              "      <th>2006</th>\n",
              "      <th>2007</th>\n",
              "      <th>2008</th>\n",
              "      <th>2009</th>\n",
              "      <th>2010</th>\n",
              "      <th>2011</th>\n",
              "      <th>2012</th>\n",
              "      <th>2013</th>\n",
              "      <th>2014</th>\n",
              "      <th>2015</th>\n",
              "    </tr>\n",
              "    <tr>\n",
              "      <th>Country</th>\n",
              "      <th></th>\n",
              "      <th></th>\n",
              "      <th></th>\n",
              "      <th></th>\n",
              "      <th></th>\n",
              "      <th></th>\n",
              "      <th></th>\n",
              "      <th></th>\n",
              "      <th></th>\n",
              "      <th></th>\n",
              "      <th></th>\n",
              "      <th></th>\n",
              "      <th></th>\n",
              "      <th></th>\n",
              "      <th></th>\n",
              "      <th></th>\n",
              "      <th></th>\n",
              "      <th></th>\n",
              "      <th></th>\n",
              "      <th></th>\n",
              "    </tr>\n",
              "  </thead>\n",
              "  <tbody>\n",
              "    <tr>\n",
              "      <th>China</th>\n",
              "      <td>1</td>\n",
              "      <td>273437</td>\n",
              "      <td>272374</td>\n",
              "      <td>2336764</td>\n",
              "      <td>1615239</td>\n",
              "      <td>8.55</td>\n",
              "      <td>245</td>\n",
              "      <td>1.271910e+11</td>\n",
              "      <td>93.0</td>\n",
              "      <td>19.754910</td>\n",
              "      <td>2.752132e+12</td>\n",
              "      <td>3.550343e+12</td>\n",
              "      <td>4.594307e+12</td>\n",
              "      <td>5.101703e+12</td>\n",
              "      <td>6.087164e+12</td>\n",
              "      <td>7.551500e+12</td>\n",
              "      <td>8.532230e+12</td>\n",
              "      <td>9.570406e+12</td>\n",
              "      <td>1.047568e+13</td>\n",
              "      <td>1.106155e+13</td>\n",
              "    </tr>\n",
              "    <tr>\n",
              "      <th>United States</th>\n",
              "      <td>2</td>\n",
              "      <td>175891</td>\n",
              "      <td>172431</td>\n",
              "      <td>2230544</td>\n",
              "      <td>724472</td>\n",
              "      <td>12.68</td>\n",
              "      <td>363</td>\n",
              "      <td>9.083800e+10</td>\n",
              "      <td>286.0</td>\n",
              "      <td>11.570980</td>\n",
              "      <td>1.381461e+13</td>\n",
              "      <td>1.445186e+13</td>\n",
              "      <td>1.471284e+13</td>\n",
              "      <td>1.444893e+13</td>\n",
              "      <td>1.499205e+13</td>\n",
              "      <td>1.554258e+13</td>\n",
              "      <td>1.619701e+13</td>\n",
              "      <td>1.678485e+13</td>\n",
              "      <td>1.752716e+13</td>\n",
              "      <td>1.822470e+13</td>\n",
              "    </tr>\n",
              "    <tr>\n",
              "      <th>India</th>\n",
              "      <td>3</td>\n",
              "      <td>55082</td>\n",
              "      <td>53775</td>\n",
              "      <td>463165</td>\n",
              "      <td>162944</td>\n",
              "      <td>8.41</td>\n",
              "      <td>181</td>\n",
              "      <td>3.319500e+10</td>\n",
              "      <td>26.0</td>\n",
              "      <td>14.969080</td>\n",
              "      <td>9.402599e+11</td>\n",
              "      <td>1.216735e+12</td>\n",
              "      <td>1.198896e+12</td>\n",
              "      <td>1.341887e+12</td>\n",
              "      <td>1.675615e+12</td>\n",
              "      <td>1.823050e+12</td>\n",
              "      <td>1.827638e+12</td>\n",
              "      <td>1.856722e+12</td>\n",
              "      <td>2.039127e+12</td>\n",
              "      <td>2.103588e+12</td>\n",
              "    </tr>\n",
              "    <tr>\n",
              "      <th>Japan</th>\n",
              "      <td>4</td>\n",
              "      <td>50523</td>\n",
              "      <td>50065</td>\n",
              "      <td>488062</td>\n",
              "      <td>119930</td>\n",
              "      <td>9.66</td>\n",
              "      <td>193</td>\n",
              "      <td>1.898400e+10</td>\n",
              "      <td>149.0</td>\n",
              "      <td>10.232820</td>\n",
              "      <td>4.530377e+12</td>\n",
              "      <td>4.515265e+12</td>\n",
              "      <td>5.037908e+12</td>\n",
              "      <td>5.231383e+12</td>\n",
              "      <td>5.700098e+12</td>\n",
              "      <td>6.157460e+12</td>\n",
              "      <td>6.203213e+12</td>\n",
              "      <td>5.155717e+12</td>\n",
              "      <td>4.850414e+12</td>\n",
              "      <td>4.389476e+12</td>\n",
              "    </tr>\n",
              "    <tr>\n",
              "      <th>United Kingdom</th>\n",
              "      <td>5</td>\n",
              "      <td>43389</td>\n",
              "      <td>42284</td>\n",
              "      <td>615670</td>\n",
              "      <td>111290</td>\n",
              "      <td>14.19</td>\n",
              "      <td>226</td>\n",
              "      <td>7.920000e+09</td>\n",
              "      <td>124.0</td>\n",
              "      <td>10.600470</td>\n",
              "      <td>2.713750e+12</td>\n",
              "      <td>3.100882e+12</td>\n",
              "      <td>2.922667e+12</td>\n",
              "      <td>2.410910e+12</td>\n",
              "      <td>2.475244e+12</td>\n",
              "      <td>2.659310e+12</td>\n",
              "      <td>2.704888e+12</td>\n",
              "      <td>2.786023e+12</td>\n",
              "      <td>3.063803e+12</td>\n",
              "      <td>2.928591e+12</td>\n",
              "    </tr>\n",
              "    <tr>\n",
              "      <th>Germany</th>\n",
              "      <td>6</td>\n",
              "      <td>38739</td>\n",
              "      <td>38013</td>\n",
              "      <td>433148</td>\n",
              "      <td>95145</td>\n",
              "      <td>11.18</td>\n",
              "      <td>196</td>\n",
              "      <td>1.326100e+10</td>\n",
              "      <td>165.0</td>\n",
              "      <td>17.901530</td>\n",
              "      <td>2.992197e+12</td>\n",
              "      <td>3.421229e+12</td>\n",
              "      <td>3.730028e+12</td>\n",
              "      <td>3.397791e+12</td>\n",
              "      <td>3.396354e+12</td>\n",
              "      <td>3.744409e+12</td>\n",
              "      <td>3.527345e+12</td>\n",
              "      <td>3.732743e+12</td>\n",
              "      <td>3.883920e+12</td>\n",
              "      <td>3.356236e+12</td>\n",
              "    </tr>\n",
              "    <tr>\n",
              "      <th>Russian Federation</th>\n",
              "      <td>7</td>\n",
              "      <td>36735</td>\n",
              "      <td>36560</td>\n",
              "      <td>115938</td>\n",
              "      <td>54993</td>\n",
              "      <td>3.16</td>\n",
              "      <td>90</td>\n",
              "      <td>3.070900e+10</td>\n",
              "      <td>214.0</td>\n",
              "      <td>17.288680</td>\n",
              "      <td>9.899305e+11</td>\n",
              "      <td>1.299706e+12</td>\n",
              "      <td>1.660846e+12</td>\n",
              "      <td>1.222644e+12</td>\n",
              "      <td>1.524917e+12</td>\n",
              "      <td>2.045926e+12</td>\n",
              "      <td>2.208296e+12</td>\n",
              "      <td>2.292473e+12</td>\n",
              "      <td>2.059242e+12</td>\n",
              "      <td>1.363481e+12</td>\n",
              "    </tr>\n",
              "    <tr>\n",
              "      <th>Canada</th>\n",
              "      <td>8</td>\n",
              "      <td>33472</td>\n",
              "      <td>32863</td>\n",
              "      <td>568080</td>\n",
              "      <td>100953</td>\n",
              "      <td>16.97</td>\n",
              "      <td>227</td>\n",
              "      <td>1.043100e+10</td>\n",
              "      <td>296.0</td>\n",
              "      <td>61.945430</td>\n",
              "      <td>1.315415e+12</td>\n",
              "      <td>1.464977e+12</td>\n",
              "      <td>1.549131e+12</td>\n",
              "      <td>1.371153e+12</td>\n",
              "      <td>1.613464e+12</td>\n",
              "      <td>1.788648e+12</td>\n",
              "      <td>1.828689e+12</td>\n",
              "      <td>1.847209e+12</td>\n",
              "      <td>1.803533e+12</td>\n",
              "      <td>1.556130e+12</td>\n",
              "    </tr>\n",
              "    <tr>\n",
              "      <th>Italy</th>\n",
              "      <td>9</td>\n",
              "      <td>27983</td>\n",
              "      <td>26940</td>\n",
              "      <td>352993</td>\n",
              "      <td>87828</td>\n",
              "      <td>12.61</td>\n",
              "      <td>166</td>\n",
              "      <td>6.530000e+09</td>\n",
              "      <td>109.0</td>\n",
              "      <td>33.667230</td>\n",
              "      <td>1.947920e+12</td>\n",
              "      <td>2.210293e+12</td>\n",
              "      <td>2.398857e+12</td>\n",
              "      <td>2.191242e+12</td>\n",
              "      <td>2.134018e+12</td>\n",
              "      <td>2.291991e+12</td>\n",
              "      <td>2.087077e+12</td>\n",
              "      <td>2.141315e+12</td>\n",
              "      <td>2.159134e+12</td>\n",
              "      <td>1.835899e+12</td>\n",
              "    </tr>\n",
              "    <tr>\n",
              "      <th>South Korea</th>\n",
              "      <td>10</td>\n",
              "      <td>27655</td>\n",
              "      <td>27445</td>\n",
              "      <td>328488</td>\n",
              "      <td>61531</td>\n",
              "      <td>11.88</td>\n",
              "      <td>155</td>\n",
              "      <td>1.100700e+10</td>\n",
              "      <td>221.0</td>\n",
              "      <td>2.279353</td>\n",
              "      <td>1.053217e+12</td>\n",
              "      <td>1.172614e+12</td>\n",
              "      <td>1.047339e+12</td>\n",
              "      <td>9.439419e+11</td>\n",
              "      <td>1.144067e+12</td>\n",
              "      <td>1.253223e+12</td>\n",
              "      <td>1.278428e+12</td>\n",
              "      <td>1.370795e+12</td>\n",
              "      <td>1.484318e+12</td>\n",
              "      <td>1.465773e+12</td>\n",
              "    </tr>\n",
              "    <tr>\n",
              "      <th>France</th>\n",
              "      <td>11</td>\n",
              "      <td>25232</td>\n",
              "      <td>24732</td>\n",
              "      <td>343860</td>\n",
              "      <td>65734</td>\n",
              "      <td>13.63</td>\n",
              "      <td>178</td>\n",
              "      <td>1.059700e+10</td>\n",
              "      <td>166.0</td>\n",
              "      <td>17.020280</td>\n",
              "      <td>2.318594e+12</td>\n",
              "      <td>2.657213e+12</td>\n",
              "      <td>2.918383e+12</td>\n",
              "      <td>2.690222e+12</td>\n",
              "      <td>2.642610e+12</td>\n",
              "      <td>2.861408e+12</td>\n",
              "      <td>2.683825e+12</td>\n",
              "      <td>2.811078e+12</td>\n",
              "      <td>2.852166e+12</td>\n",
              "      <td>2.438208e+12</td>\n",
              "    </tr>\n",
              "    <tr>\n",
              "      <th>Iran</th>\n",
              "      <td>12</td>\n",
              "      <td>22933</td>\n",
              "      <td>22734</td>\n",
              "      <td>307280</td>\n",
              "      <td>97038</td>\n",
              "      <td>13.40</td>\n",
              "      <td>141</td>\n",
              "      <td>9.172000e+09</td>\n",
              "      <td>119.0</td>\n",
              "      <td>5.707721</td>\n",
              "      <td>2.662989e+11</td>\n",
              "      <td>3.498816e+11</td>\n",
              "      <td>4.123362e+11</td>\n",
              "      <td>4.163970e+11</td>\n",
              "      <td>4.868076e+11</td>\n",
              "      <td>5.807649e+11</td>\n",
              "      <td>5.988685e+11</td>\n",
              "      <td>4.602931e+11</td>\n",
              "      <td>4.326870e+11</td>\n",
              "      <td>3.849515e+11</td>\n",
              "    </tr>\n",
              "    <tr>\n",
              "      <th>Spain</th>\n",
              "      <td>13</td>\n",
              "      <td>21955</td>\n",
              "      <td>21597</td>\n",
              "      <td>352497</td>\n",
              "      <td>64588</td>\n",
              "      <td>16.06</td>\n",
              "      <td>176</td>\n",
              "      <td>4.923000e+09</td>\n",
              "      <td>106.0</td>\n",
              "      <td>37.968590</td>\n",
              "      <td>1.259344e+12</td>\n",
              "      <td>1.472131e+12</td>\n",
              "      <td>1.625225e+12</td>\n",
              "      <td>1.485583e+12</td>\n",
              "      <td>1.420722e+12</td>\n",
              "      <td>1.478773e+12</td>\n",
              "      <td>1.324820e+12</td>\n",
              "      <td>1.354757e+12</td>\n",
              "      <td>1.369399e+12</td>\n",
              "      <td>1.195119e+12</td>\n",
              "    </tr>\n",
              "    <tr>\n",
              "      <th>Brazil</th>\n",
              "      <td>14</td>\n",
              "      <td>21524</td>\n",
              "      <td>21236</td>\n",
              "      <td>183915</td>\n",
              "      <td>45172</td>\n",
              "      <td>8.54</td>\n",
              "      <td>127</td>\n",
              "      <td>1.214900e+10</td>\n",
              "      <td>59.0</td>\n",
              "      <td>69.648030</td>\n",
              "      <td>1.107640e+12</td>\n",
              "      <td>1.397084e+12</td>\n",
              "      <td>1.695825e+12</td>\n",
              "      <td>1.667020e+12</td>\n",
              "      <td>2.208872e+12</td>\n",
              "      <td>2.616201e+12</td>\n",
              "      <td>2.465189e+12</td>\n",
              "      <td>2.472807e+12</td>\n",
              "      <td>2.455994e+12</td>\n",
              "      <td>1.802214e+12</td>\n",
              "    </tr>\n",
              "    <tr>\n",
              "      <th>Australia</th>\n",
              "      <td>15</td>\n",
              "      <td>20614</td>\n",
              "      <td>20147</td>\n",
              "      <td>314307</td>\n",
              "      <td>51583</td>\n",
              "      <td>15.25</td>\n",
              "      <td>176</td>\n",
              "      <td>5.386000e+09</td>\n",
              "      <td>231.0</td>\n",
              "      <td>11.810810</td>\n",
              "      <td>7.460542e+11</td>\n",
              "      <td>8.530996e+11</td>\n",
              "      <td>1.053996e+12</td>\n",
              "      <td>9.278052e+11</td>\n",
              "      <td>1.146138e+12</td>\n",
              "      <td>1.396650e+12</td>\n",
              "      <td>1.546152e+12</td>\n",
              "      <td>1.576184e+12</td>\n",
              "      <td>1.467484e+12</td>\n",
              "      <td>1.351694e+12</td>\n",
              "    </tr>\n",
              "  </tbody>\n",
              "</table>\n",
              "</div>"
            ],
            "text/plain": [
              "                    Rank  Documents  ...          2014          2015\n",
              "Country                              ...                            \n",
              "China                  1     273437  ...  1.047568e+13  1.106155e+13\n",
              "United States          2     175891  ...  1.752716e+13  1.822470e+13\n",
              "India                  3      55082  ...  2.039127e+12  2.103588e+12\n",
              "Japan                  4      50523  ...  4.850414e+12  4.389476e+12\n",
              "United Kingdom         5      43389  ...  3.063803e+12  2.928591e+12\n",
              "Germany                6      38739  ...  3.883920e+12  3.356236e+12\n",
              "Russian Federation     7      36735  ...  2.059242e+12  1.363481e+12\n",
              "Canada                 8      33472  ...  1.803533e+12  1.556130e+12\n",
              "Italy                  9      27983  ...  2.159134e+12  1.835899e+12\n",
              "South Korea           10      27655  ...  1.484318e+12  1.465773e+12\n",
              "France                11      25232  ...  2.852166e+12  2.438208e+12\n",
              "Iran                  12      22933  ...  4.326870e+11  3.849515e+11\n",
              "Spain                 13      21955  ...  1.369399e+12  1.195119e+12\n",
              "Brazil                14      21524  ...  2.455994e+12  1.802214e+12\n",
              "Australia             15      20614  ...  1.467484e+12  1.351694e+12\n",
              "\n",
              "[15 rows x 20 columns]"
            ]
          },
          "metadata": {
            "tags": []
          },
          "execution_count": 84
        }
      ]
    },
    {
      "cell_type": "markdown",
      "metadata": {
        "id": "UdGk_ltwHL9v"
      },
      "source": [
        "### Question 2\n",
        "What is the average GDP over the last 10 years for each country? (exclude missing values from this calculation.)\n",
        "\n",
        "*This function should return a Series named `avgGDP` with 15 countries and their average GDP sorted in descending order.*"
      ]
    },
    {
      "cell_type": "code",
      "metadata": {
        "colab": {
          "base_uri": "https://localhost:8080/"
        },
        "id": "7p7xlMIlHL9y",
        "scrolled": true,
        "outputId": "f7e16b44-6978-465d-ce2d-4c2e8c7a7615"
      },
      "source": [
        "def answer_two():\n",
        "    Top15 = answer_one()\n",
        "    for_mean= Top15[['2006', '2007', '2008', '2009', '2010', '2011', '2012', '2013', '2014', '2015']]\n",
        "    avgGDP=for_mean.mean(axis=1).sort_values(ascending=False)\n",
        "    return pd.Series(avgGDP)\n",
        "answer_two()"
      ],
      "execution_count": 75,
      "outputs": [
        {
          "output_type": "execute_result",
          "data": {
            "text/plain": [
              "Country\n",
              "United States         1.566966e+13\n",
              "China                 6.927702e+12\n",
              "Japan                 5.177131e+12\n",
              "Germany               3.518225e+12\n",
              "United Kingdom        2.776607e+12\n",
              "France                2.687371e+12\n",
              "Italy                 2.139775e+12\n",
              "Brazil                1.988885e+12\n",
              "Russian Federation    1.666746e+12\n",
              "Canada                1.613835e+12\n",
              "India                 1.602352e+12\n",
              "Spain                 1.398587e+12\n",
              "South Korea           1.221372e+12\n",
              "Australia             1.206526e+12\n",
              "Iran                  4.389286e+11\n",
              "dtype: float64"
            ]
          },
          "metadata": {
            "tags": []
          },
          "execution_count": 75
        }
      ]
    },
    {
      "cell_type": "markdown",
      "metadata": {
        "id": "EW8wr2lPHL91"
      },
      "source": [
        "### Question 3\n",
        "By how much had the GDP changed over the 10 year span for the country with the 6th largest average GDP?\n",
        "\n",
        "*This function should return a single number.*"
      ]
    },
    {
      "cell_type": "code",
      "metadata": {
        "colab": {
          "base_uri": "https://localhost:8080/"
        },
        "id": "JzfZDvlQHL92",
        "scrolled": true,
        "outputId": "43e848e9-a330-4412-8df9-80e2539c9aa3"
      },
      "source": [
        "def answer_three():\n",
        "    Top15 = answer_one()\n",
        "    AVG = answer_two()\n",
        "    AVG=AVG.sort_values(ascending=False)\n",
        "    largest=AVG.index[5]\n",
        "    result=Top15['2015'][5]-Top15['2006'][5]\n",
        "    return result\n",
        "answer_three()"
      ],
      "execution_count": 76,
      "outputs": [
        {
          "output_type": "execute_result",
          "data": {
            "text/plain": [
              "364038991034.8198"
            ]
          },
          "metadata": {
            "tags": []
          },
          "execution_count": 76
        }
      ]
    },
    {
      "cell_type": "markdown",
      "metadata": {
        "id": "dQ2w2YhvHL93"
      },
      "source": [
        "### Question 4\n",
        "\n",
        "Create a new column that is the ratio of Self-Citations to Total Citations. \n",
        "What is the maximum value for this new column, and what country has the highest ratio?\n",
        "\n",
        "*This function should return a tuple with the name of the country and the ratio.*"
      ]
    },
    {
      "cell_type": "code",
      "metadata": {
        "colab": {
          "base_uri": "https://localhost:8080/"
        },
        "id": "H20hz2umHL94",
        "outputId": "dec0a814-4fd3-4e4e-8791-27219df9c51e"
      },
      "source": [
        "def answer_four():\n",
        "    Top15 = answer_one()\n",
        "    Total=Top15['Self-citations']/Top15['Citations']\n",
        "    \n",
        "    return Total.index[0],Total[0]\n",
        "answer_four()\n",
        "    \n"
      ],
      "execution_count": 82,
      "outputs": [
        {
          "output_type": "execute_result",
          "data": {
            "text/plain": [
              "('China', 0.6912289816173135)"
            ]
          },
          "metadata": {
            "tags": []
          },
          "execution_count": 82
        }
      ]
    },
    {
      "cell_type": "markdown",
      "metadata": {
        "id": "4m7Tkcv4HL95"
      },
      "source": [
        "### Question 5\n",
        "\n",
        "Create a column that estimates the population using Energy Supply and Energy Supply per capita. \n",
        "What is the third most populous country according to this estimate?\n",
        "\n",
        "*This function should return a single string value.*"
      ]
    },
    {
      "cell_type": "code",
      "metadata": {
        "colab": {
          "base_uri": "https://localhost:8080/",
          "height": 36
        },
        "id": "w1LrfmQ8HL96",
        "outputId": "f81ddda6-6250-44b3-db6a-069ae6599eb7"
      },
      "source": [
        "def answer_five():\n",
        "  Top15 = answer_one()\n",
        "  Top15['population']=Top15['Energy Supply']/Top15['Energy Supply per Capita']\n",
        "  result=Top15.sort_values(by='population',ascending=False).iloc[0].name\n",
        "  return result\n",
        "answer_five()"
      ],
      "execution_count": 67,
      "outputs": [
        {
          "output_type": "execute_result",
          "data": {
            "application/vnd.google.colaboratory.intrinsic+json": {
              "type": "string"
            },
            "text/plain": [
              "'China'"
            ]
          },
          "metadata": {
            "tags": []
          },
          "execution_count": 67
        }
      ]
    },
    {
      "cell_type": "markdown",
      "metadata": {
        "id": "SwZOKF5eHL97"
      },
      "source": [
        "### Question 6\n",
        "Create a column that estimates the number of citable documents per person. \n",
        "What is the correlation between the number of citable documents per capita and the energy supply per capita? Use the `.corr()` method, (Pearson's correlation).\n",
        "\n",
        "*This function should return a single number.*\n"
      ]
    },
    {
      "cell_type": "code",
      "metadata": {
        "colab": {
          "base_uri": "https://localhost:8080/"
        },
        "id": "jrUauF_tHL98",
        "outputId": "db1f2cc6-9c74-4479-86a6-ac134c4bc821"
      },
      "source": [
        "def answer_six():\n",
        "  Top15 = answer_one()\n",
        "  Top15['population']=Top15['Energy Supply']/Top15['Energy Supply per Capita']\n",
        "  Top15['Citable docs per Capita']=Top15['Citable documents']/Top15['population']\n",
        "  return Top15[\"Citable docs per Capita\"].corr(Top15['Energy Supply per Capita'])\n",
        "answer_six()"
      ],
      "execution_count": 68,
      "outputs": [
        {
          "output_type": "execute_result",
          "data": {
            "text/plain": [
              "0.7434709127726777"
            ]
          },
          "metadata": {
            "tags": []
          },
          "execution_count": 68
        }
      ]
    },
    {
      "cell_type": "markdown",
      "metadata": {
        "id": "-gahALVMHL98"
      },
      "source": [
        "### Question 7\n",
        "Use the following dictionary to group the Countries by Continent, then create a dateframe that displays the sample size (the number of countries in each continent bin), and the sum, mean, and std deviation for the estimated population of each country.\n",
        "\n",
        "```python\n",
        "ContinentDict  = {'China':'Asia', \n",
        "                  'United States':'North America', \n",
        "                  'Japan':'Asia', \n",
        "                  'United Kingdom':'Europe', \n",
        "                  'Russian Federation':'Europe', \n",
        "                  'Canada':'North America', \n",
        "                  'Germany':'Europe', \n",
        "                  'India':'Asia',\n",
        "                  'France':'Europe', \n",
        "                  'South Korea':'Asia', \n",
        "                  'Italy':'Europe', \n",
        "                  'Spain':'Europe', \n",
        "                  'Iran':'Asia',\n",
        "                  'Australia':'Australia', \n",
        "                  'Brazil':'South America'}\n",
        "```\n",
        "\n",
        "*This function should return a DataFrame with index named Continent `['Asia', 'Australia', 'Europe', 'North America', 'South America']` and columns `['size', 'sum', 'mean', 'std']`*"
      ]
    },
    {
      "cell_type": "code",
      "metadata": {
        "id": "Gfa5Fu78Kauo"
      },
      "source": [
        ""
      ],
      "execution_count": 82,
      "outputs": []
    },
    {
      "cell_type": "code",
      "metadata": {
        "id": "d6M6EeBoHL99",
        "colab": {
          "base_uri": "https://localhost:8080/",
          "height": 204
        },
        "outputId": "8a30f1af-058c-45e8-9c3c-9cc59b90afd4"
      },
      "source": [
        "def answer_seven():\n",
        "  Top15 = answer_one()\n",
        "  Top15['population']=Top15['Energy Supply']/Top15['Energy Supply per Capita']\n",
        "\n",
        "  ContinentDict =({'China':'Asia', \n",
        "                    'United States':'North America', \n",
        "                    'Japan':'Asia', \n",
        "                    'United Kingdom':'Europe', \n",
        "                    'Russian Federation':'Europe', \n",
        "                    'Canada':'North America', \n",
        "                    'Germany':'Europe', \n",
        "                    'India':'Asia',\n",
        "                    'France':'Europe', \n",
        "                    'South Korea':'Asia', \n",
        "                    'Italy':'Europe', \n",
        "                    'Spain':'Europe', \n",
        "                    'Iran':'Asia',\n",
        "                    'Australia':'Australia', \n",
        "                    'Brazil':'South America'})\n",
        "  group=Top15['population'].groupby(ContinentDict)\n",
        "  results = pd.DataFrame(columns = ['size', 'sum', 'mean', 'std'])\n",
        "  results['size']=group.size()\n",
        "  results['sum']=group.sum()\n",
        "  results['mean']=group.mean()\n",
        "  results['std']=group.std()\n",
        "\n",
        " \n",
        "  return results\n",
        "answer_seven()"
      ],
      "execution_count": 83,
      "outputs": [
        {
          "output_type": "execute_result",
          "data": {
            "text/html": [
              "<div>\n",
              "<style scoped>\n",
              "    .dataframe tbody tr th:only-of-type {\n",
              "        vertical-align: middle;\n",
              "    }\n",
              "\n",
              "    .dataframe tbody tr th {\n",
              "        vertical-align: top;\n",
              "    }\n",
              "\n",
              "    .dataframe thead th {\n",
              "        text-align: right;\n",
              "    }\n",
              "</style>\n",
              "<table border=\"1\" class=\"dataframe\">\n",
              "  <thead>\n",
              "    <tr style=\"text-align: right;\">\n",
              "      <th></th>\n",
              "      <th>size</th>\n",
              "      <th>sum</th>\n",
              "      <th>mean</th>\n",
              "      <th>std</th>\n",
              "    </tr>\n",
              "  </thead>\n",
              "  <tbody>\n",
              "    <tr>\n",
              "      <th>Asia</th>\n",
              "      <td>5</td>\n",
              "      <td>2.898666e+09</td>\n",
              "      <td>5.797333e+08</td>\n",
              "      <td>6.790979e+08</td>\n",
              "    </tr>\n",
              "    <tr>\n",
              "      <th>Australia</th>\n",
              "      <td>1</td>\n",
              "      <td>2.331602e+07</td>\n",
              "      <td>2.331602e+07</td>\n",
              "      <td>NaN</td>\n",
              "    </tr>\n",
              "    <tr>\n",
              "      <th>Europe</th>\n",
              "      <td>6</td>\n",
              "      <td>4.579297e+08</td>\n",
              "      <td>7.632161e+07</td>\n",
              "      <td>3.464767e+07</td>\n",
              "    </tr>\n",
              "    <tr>\n",
              "      <th>North America</th>\n",
              "      <td>2</td>\n",
              "      <td>3.528552e+08</td>\n",
              "      <td>1.764276e+08</td>\n",
              "      <td>1.996696e+08</td>\n",
              "    </tr>\n",
              "    <tr>\n",
              "      <th>South America</th>\n",
              "      <td>1</td>\n",
              "      <td>2.059153e+08</td>\n",
              "      <td>2.059153e+08</td>\n",
              "      <td>NaN</td>\n",
              "    </tr>\n",
              "  </tbody>\n",
              "</table>\n",
              "</div>"
            ],
            "text/plain": [
              "               size           sum          mean           std\n",
              "Asia              5  2.898666e+09  5.797333e+08  6.790979e+08\n",
              "Australia         1  2.331602e+07  2.331602e+07           NaN\n",
              "Europe            6  4.579297e+08  7.632161e+07  3.464767e+07\n",
              "North America     2  3.528552e+08  1.764276e+08  1.996696e+08\n",
              "South America     1  2.059153e+08  2.059153e+08           NaN"
            ]
          },
          "metadata": {
            "tags": []
          },
          "execution_count": 83
        }
      ]
    },
    {
      "cell_type": "code",
      "metadata": {
        "id": "7UO7IVhrHL9-"
      },
      "source": [
        ""
      ],
      "execution_count": null,
      "outputs": []
    }
  ]
}